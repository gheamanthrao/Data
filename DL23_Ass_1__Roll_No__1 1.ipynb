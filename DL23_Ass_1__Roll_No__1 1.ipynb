{
  "nbformat": 4,
  "nbformat_minor": 0,
  "metadata": {
    "colab": {
      "provenance": []
    },
    "kernelspec": {
      "name": "python3",
      "display_name": "Python 3"
    },
    "language_info": {
      "name": "python"
    }
  },
  "cells": [
    {
      "cell_type": "markdown",
      "source": [
        "# About: Deep Learning '23 Assignment 1\n",
        "\n",
        "\n",
        "We will perform Image Classification task on the MNIST dataset which has 70,000 28*28 images labelled into 10 classes. \n",
        "\n",
        "**Total Marks: 60**\n",
        "\n",
        "\n",
        "**Fill these**\n",
        "\n",
        "Name: `Gandham Heamanth Rao`\n",
        "\n",
        "Roll Number: `20CS10027`\n",
        "\n",
        "**Instructions:**\n",
        "\n",
        "1. We have left code cells blank for you to fill up with appropriate code. Do not add any extra code cells. Strictly follow the format and fill up the cells with the correct code. Refer to cell comments for what to fill in that cell.\n",
        "\n",
        "2. *Do not* use any training frameworks like PyTorch Lightning. This assignment will test your ability to write custom training loops.\n",
        "\n",
        "3. Save the notebook with cell outputs of all cells. The cell outputs  will be used for evaluating your submission.\n",
        "\n",
        "\n"
      ],
      "metadata": {
        "id": "FBKdMbwfvq-W"
      }
    },
    {
      "cell_type": "code",
      "source": [
        "import torch\n",
        "import torch.nn as nn\n",
        "import random\n",
        "import numpy as np\n",
        "import torch.optim as optim\n",
        "from torchvision import datasets, transforms\n",
        "from torch.utils.data import random_split, DataLoader\n",
        "import matplotlib.pyplot as plt\n",
        "\n",
        "## Add any other imports here"
      ],
      "metadata": {
        "id": "b7yol97nxLq3"
      },
      "execution_count": 100,
      "outputs": []
    },
    {
      "cell_type": "code",
      "source": [
        "SEED=42\n",
        "torch.manual_seed(SEED)\n",
        "random.seed(SEED)\n",
        "np.random.seed(SEED)"
      ],
      "metadata": {
        "id": "Lv07aCHK0IhG"
      },
      "execution_count": 101,
      "outputs": []
    },
    {
      "cell_type": "markdown",
      "source": [
        "## Getting the data"
      ],
      "metadata": {
        "id": "HU_56fBhx2H4"
      }
    },
    {
      "cell_type": "code",
      "source": [
        "train_data = datasets.MNIST('data', train=True, download=True, transform=transforms.ToTensor())\n",
        "test_data = datasets.MNIST('data', train=False, download=True, transform=transforms.ToTensor())\n",
        "train, val = random_split(train_data, [50000, 10000], generator=torch.Generator().manual_seed(SEED))\n",
        "\n",
        "train_loader = DataLoader(train, batch_size=64, shuffle=True)\n",
        "val_loader = DataLoader(val, batch_size=64, shuffle=False)\n",
        "test_loader = DataLoader(test_data, batch_size=64, shuffle=False)\n",
        "\n",
        "print(len(train), len(val), len(test_data))"
      ],
      "metadata": {
        "colab": {
          "base_uri": "https://localhost:8080/"
        },
        "id": "CfV1pXYtyAfW",
        "outputId": "c840700d-1fa2-42db-c5a0-372ed2bd9e60"
      },
      "execution_count": 102,
      "outputs": [
        {
          "output_type": "stream",
          "name": "stdout",
          "text": [
            "50000 10000 10000\n"
          ]
        }
      ]
    },
    {
      "cell_type": "markdown",
      "source": [
        "## Defining the Model [18 marks]\n",
        "\n",
        "You will define 3 models, with 2, 3, 4 hidden layers respectively. Lets call these models A, B, C. We will be studying the comparitive performance of these 3 models on this task.\n",
        "\n",
        "Use ReLU as the activation function for all three models. Later we will experiment with other activation functions as well."
      ],
      "metadata": {
        "id": "4xqWpnwu0mzj"
      }
    },
    {
      "cell_type": "markdown",
      "source": [
        "### Model A\n",
        "\n",
        "Architecture:\n",
        "\n",
        "1. Input Layer \n",
        "2. Hidden Layer (Dimension Size - 64)\n",
        "3. Activation Function\n",
        "4. Hidden Layer (Dimension Size - 128)\n",
        "5. Activation Function\n",
        "6. Output Layer (Dimension Size = Number of Classes = 10)"
      ],
      "metadata": {
        "id": "30J_OmCoMm4S"
      }
    },
    {
      "cell_type": "code",
      "source": [
        "class Net1(nn.Module):\n",
        "    def __init__(self):\n",
        "        super(Net1, self).__init__()\n",
        "        self.fc1 = nn.Linear(in_features=784, out_features=64)\n",
        "        self.relu1 = nn.ReLU()\n",
        "        self.fc2 = nn.Linear(in_features=64, out_features=128)\n",
        "        self.relu2 = nn.ReLU()\n",
        "        self.out = nn.Linear(in_features=128, out_features=10)\n",
        "    \n",
        "    def forward(self, x):\n",
        "        x = self.fc1(x)\n",
        "        x = self.relu1(x)\n",
        "        x = self.fc2(x)\n",
        "        x = self.relu2(x)\n",
        "        x = self.out(x)\n",
        "        return x\n",
        "A = Net1()\n"
      ],
      "metadata": {
        "id": "WPGlwx0502pe"
      },
      "execution_count": 103,
      "outputs": []
    },
    {
      "cell_type": "markdown",
      "source": [
        "### Model B\n",
        "\n",
        "\n",
        "Architecture:\n",
        "\n",
        "1. Input Layer \n",
        "2. Hidden Layer (Dimension Size - 64)\n",
        "3. Activation Function\n",
        "4. Hidden Layer (Dimension Size - 128)\n",
        "5. Activation Function\n",
        "6. Hidden Layer (Dimension Size - 256)\n",
        "7. Activation Function\n",
        "8. Output Layer (Dimension Size = Number of Classes = 10)"
      ],
      "metadata": {
        "id": "0K0nfqCvMqA9"
      }
    },
    {
      "cell_type": "code",
      "source": [
        "class Net2(nn.Module):\n",
        "    def __init__(self):\n",
        "        super(Net2, self).__init__()\n",
        "        self.fc1 = nn.Linear(in_features=784, out_features=64)\n",
        "        self.relu1 = nn.ReLU()\n",
        "        self.fc2 = nn.Linear(in_features=64, out_features=128)\n",
        "        self.relu2 = nn.ReLU()\n",
        "        self.fc3 = nn.Linear(in_features=128, out_features=256)\n",
        "        self.relu3 = nn.ReLU()\n",
        "        self.out = nn.Linear(in_features=256, out_features=10)\n",
        "    \n",
        "    def forward(self, x):\n",
        "        x = self.fc1(x)\n",
        "        x = self.relu1(x)\n",
        "        x = self.fc2(x)\n",
        "        x = self.relu2(x)\n",
        "        x = self.fc3(x)\n",
        "        x = self.relu3(x)\n",
        "        x = self.out(x)\n",
        "        return x\n",
        "B = Net2()"
      ],
      "metadata": {
        "id": "AD5W0AJ908tI"
      },
      "execution_count": 104,
      "outputs": []
    },
    {
      "cell_type": "markdown",
      "source": [
        "### Model C\n",
        "\n",
        "\n",
        "Architecture\n",
        "\n",
        "1. Input Layer \n",
        "2. Hidden Layer (Dimension Size - 64)\n",
        "3. Activation Function\n",
        "4. Hidden Layer (Dimension Size - 128)\n",
        "5. Activation Function\n",
        "6. Hidden Layer (Dimension Size - 256)\n",
        "7. Activation Function\n",
        "8. Hidden Layer (Dimension Size - 512)\n",
        "9. Activation Function\n",
        "10. Output Layer (Dimension Size = Number of Classes = 10)"
      ],
      "metadata": {
        "id": "TPDoGu9mMr_x"
      }
    },
    {
      "cell_type": "code",
      "source": [
        "class Net3(nn.Module):\n",
        "    def __init__(self):\n",
        "        super(Net3, self).__init__()\n",
        "        self.fc1 = nn.Linear(in_features=784, out_features=64)\n",
        "        self.relu1 = nn.ReLU()\n",
        "        self.fc2 = nn.Linear(in_features=64, out_features=128)\n",
        "        self.relu2 = nn.ReLU()\n",
        "        self.fc3 = nn.Linear(in_features=128, out_features=256)\n",
        "        self.relu3 = nn.ReLU()\n",
        "        self.fc4 = nn.Linear(in_features=256, out_features=512)\n",
        "        self.relu4 = nn.ReLU()\n",
        "        self.out = nn.Linear(in_features=512, out_features=10)\n",
        "\n",
        "    \n",
        "    def forward(self, x):\n",
        "        x = self.fc1(x)\n",
        "        x = self.relu1(x)\n",
        "        x = self.fc2(x)\n",
        "        x = self.relu2(x)\n",
        "        x = self.fc3(x)\n",
        "        x = self.relu3(x)\n",
        "        x = self.fc4(x)\n",
        "        x = self.relu4(x)\n",
        "        x = self.out(x)\n",
        "        return x\n",
        "C = Net3()"
      ],
      "metadata": {
        "id": "FAaOMMjY1Jna"
      },
      "execution_count": 105,
      "outputs": []
    },
    {
      "cell_type": "markdown",
      "source": [
        "## Loss Function & Optimizer [2 marks]\n",
        "\n",
        "* Loss Function: Cross Entropy Loss\n",
        "* Optimizer : Adam\n",
        "\n",
        "Use PyTorch Library versions for these two."
      ],
      "metadata": {
        "id": "EFfgQVEz1Oqx"
      }
    },
    {
      "cell_type": "code",
      "source": [
        "criterion = nn.CrossEntropyLoss()\n",
        "optimizer1 = optim.Adam(A.parameters(), lr=0.001)\n",
        "optimizer2 = optim.Adam(B.parameters(), lr=0.001)\n",
        "optimizer3 = optim.Adam(C.parameters(), lr=0.001)"
      ],
      "metadata": {
        "id": "-z7ogUqL1WMV"
      },
      "execution_count": 106,
      "outputs": []
    },
    {
      "cell_type": "markdown",
      "source": [
        "## Training Loop [30 marks]\n",
        "\n",
        "We give you the freedom to choose Hyperparameters like learing rate, number of epochs etc, but take care to use the **same** hyperparameters for all the 3 models. Also clearly state the hyperparameters you have chosen\n",
        "\n",
        "For each model, You need to report these metrics: Train Loss, Val Loss, Train Accuracy, Val Accuracy at the end of each epoch.\n",
        "\n",
        "Also plot the graphs of the following (in separate cells)\n",
        "1. Train Loss & Val Loss V/s Epoch\n",
        "2. Train Accuracy & Val Accuracy V/s Epoch"
      ],
      "metadata": {
        "id": "OLnwW-h31oJa"
      }
    },
    {
      "cell_type": "code",
      "source": [
        "lr = 0.01  #learning rate\n",
        "ne = 10   #number of epochs"
      ],
      "metadata": {
        "id": "3ZVpEI-N8L5X"
      },
      "execution_count": 107,
      "outputs": []
    },
    {
      "cell_type": "markdown",
      "source": [
        "### Model A \n",
        "\n"
      ],
      "metadata": {
        "id": "UMdreKgU24od"
      }
    },
    {
      "cell_type": "code",
      "source": [
        "# Training Loop for model A\n",
        "\n",
        "train_loss = []\n",
        "train_acc = []\n",
        "\n",
        "val_loss = []\n",
        "val_acc = []\n",
        "\n",
        "for epoch in range(ne):\n",
        "    train_loss_batch = []\n",
        "    train_acc_batch = []\n",
        "    val_loss_batch = []\n",
        "    val_acc_batch = []\n",
        "    for i, data in enumerate(train_loader, 0):\n",
        "        inputs, labels = data\n",
        "        \n",
        "        # zero the parameter gradients\n",
        "        optimizer1.zero_grad()\n",
        "\n",
        "        # forward + backward + optimize\n",
        "        outputs = A(inputs.view(-1,784))\n",
        "        loss = criterion(outputs, labels)\n",
        "        _,outputs = torch.max(outputs,dim = 1)\n",
        "        loss.backward()\n",
        "        optimizer1.step()\n",
        "\n",
        "        # print statistics\n",
        "        train_loss_batch.append(loss.item())\n",
        "        train_acc_batch.append(torch.sum(outputs==labels)/len(outputs))\n",
        "    train_loss.append(sum(train_loss_batch)/len(train_loss_batch))\n",
        "    train_acc.append(sum(train_acc_batch)/len(train_acc_batch))\n",
        "\n",
        "    with torch.no_grad():\n",
        "        for i, data in enumerate(train_loader, 0):\n",
        "            inputs, labels = data\n",
        "            outputs = A(inputs.view(-1,784))\n",
        "            loss = criterion(outputs, labels)\n",
        "            _,outputs = torch.max(outputs, dim = 1)\n",
        "            val_loss_batch.append(loss.item())\n",
        "            val_acc_batch.append(torch.sum(outputs==labels)/len(outputs))\n",
        "    val_loss.append(sum(val_loss_batch)/len(val_loss_batch))\n",
        "    val_acc.append(sum(val_acc_batch)/len(val_acc_batch))\n",
        "\n",
        "    print('Epoch [%d], train_loss: %.3f,train_acc: %.3f,val_loss: %.3f,val_acc: %.3f' % (epoch+1,train_loss[-1],train_acc[-1],val_loss[-1],val_acc[-1]))\n",
        "\n"
      ],
      "metadata": {
        "id": "iyJ75sLw2Z5n",
        "colab": {
          "base_uri": "https://localhost:8080/"
        },
        "outputId": "9b73c4e5-52d6-4a06-e8be-7facfc4266c1"
      },
      "execution_count": 108,
      "outputs": [
        {
          "output_type": "stream",
          "name": "stdout",
          "text": [
            "Epoch [1], train_loss: 0.394,train_acc: 0.889,val_loss: 0.208,val_acc: 0.941\n",
            "Epoch [2], train_loss: 0.182,train_acc: 0.946,val_loss: 0.133,val_acc: 0.961\n",
            "Epoch [3], train_loss: 0.129,train_acc: 0.961,val_loss: 0.099,val_acc: 0.970\n",
            "Epoch [4], train_loss: 0.100,train_acc: 0.969,val_loss: 0.078,val_acc: 0.976\n",
            "Epoch [5], train_loss: 0.080,train_acc: 0.976,val_loss: 0.066,val_acc: 0.980\n",
            "Epoch [6], train_loss: 0.066,train_acc: 0.979,val_loss: 0.050,val_acc: 0.985\n",
            "Epoch [7], train_loss: 0.055,train_acc: 0.983,val_loss: 0.039,val_acc: 0.988\n",
            "Epoch [8], train_loss: 0.047,train_acc: 0.985,val_loss: 0.042,val_acc: 0.986\n",
            "Epoch [9], train_loss: 0.040,train_acc: 0.987,val_loss: 0.028,val_acc: 0.991\n",
            "Epoch [10], train_loss: 0.034,train_acc: 0.989,val_loss: 0.023,val_acc: 0.993\n"
          ]
        }
      ]
    },
    {
      "cell_type": "code",
      "source": [
        "\n",
        "maxa = max(val_acc)\n",
        "\n",
        "\n",
        "# Create a list of epoch numbers\n",
        "epochsi = [1,2,3,4,5,6,7,8,9,10]\n",
        "\n",
        "# Plot Train Loss and Val Loss vs. Epoch\n",
        "plt.plot(epochsi, train_loss, label='Train Loss')\n",
        "plt.plot(epochsi, val_loss, label='Val Loss')\n",
        "plt.xlabel('Epochs')\n",
        "plt.ylabel('Loss')\n",
        "plt.title('Train Loss and Val Loss vs. Epoch')\n",
        "plt.legend()\n",
        "plt.show()"
      ],
      "metadata": {
        "id": "Gk8Atveg2nPj",
        "colab": {
          "base_uri": "https://localhost:8080/",
          "height": 295
        },
        "outputId": "1d9be9f7-516d-4c4a-dcef-7e66f996b656"
      },
      "execution_count": 109,
      "outputs": [
        {
          "output_type": "display_data",
          "data": {
            "text/plain": [
              "<Figure size 432x288 with 1 Axes>"
            ],
            "image/png": "[encoded data removed]"
          },
          "metadata": {
            "needs_background": "light"
          }
        }
      ]
    },
    {
      "cell_type": "code",
      "source": [
        "# Create a list of epoch numbers\n",
        "epochsi = [1,2,3,4,5,6,7,8,9,10]\n",
        "\n",
        "# Plot Train Loss and Val Loss vs. Epoch\n",
        "plt.plot(epochsi, train_acc, label='Train Acc')\n",
        "plt.plot(epochsi, val_acc, label='Val Acc')\n",
        "plt.xlabel('Epochs')\n",
        "plt.ylabel('Acc')\n",
        "plt.title('Train Acc and Val Acc vs. Epoch')\n",
        "plt.legend()\n",
        "plt.show()"
      ],
      "metadata": {
        "id": "VGTWAn_22n0m",
        "colab": {
          "base_uri": "https://localhost:8080/",
          "height": 295
        },
        "outputId": "47c87b55-47d8-4a6c-c47b-3d10bb0727e1"
      },
      "execution_count": 110,
      "outputs": [
        {
          "output_type": "display_data",
          "data": {
            "text/plain": [
              "<Figure size 432x288 with 1 Axes>"
            ],
            "image/png": "[encoded data removed]"
          },
          "metadata": {
            "needs_background": "light"
          }
        }
      ]
    },
    {
      "cell_type": "markdown",
      "source": [
        "### Model B\n"
      ],
      "metadata": {
        "id": "X-kUp7pk28n-"
      }
    },
    {
      "cell_type": "code",
      "source": [
        "# Training Loop for model B\n",
        "train_loss = []\n",
        "train_acc = []\n",
        "\n",
        "val_loss = []\n",
        "val_acc = []\n",
        "\n",
        "for epoch in range(ne):\n",
        "    train_loss_batch = []\n",
        "    train_acc_batch = []\n",
        "    val_loss_batch = []\n",
        "    val_acc_batch = []\n",
        "    for i, data in enumerate(train_loader, 0):\n",
        "        inputs, labels = data\n",
        "        \n",
        "        # zero the parameter gradients\n",
        "        optimizer2.zero_grad()\n",
        "\n",
        "        # forward + backward + optimize\n",
        "        outputs = B(inputs.view(-1,784))\n",
        "        loss = criterion(outputs, labels)\n",
        "        _,outputs = torch.max(outputs,dim = 1)\n",
        "        loss.backward()\n",
        "        optimizer2.step()\n",
        "\n",
        "        # print statistics\n",
        "        train_loss_batch.append(loss.item())\n",
        "        train_acc_batch.append(torch.sum(outputs==labels)/len(outputs))\n",
        "    train_loss.append(sum(train_loss_batch)/len(train_loss_batch))\n",
        "    train_acc.append(sum(train_acc_batch)/len(train_acc_batch))\n",
        "\n",
        "    with torch.no_grad():\n",
        "        for i, data in enumerate(train_loader, 0):\n",
        "            inputs, labels = data\n",
        "            outputs = B(inputs.view(-1,784))\n",
        "            loss = criterion(outputs, labels)\n",
        "            _,outputs = torch.max(outputs, dim = 1)\n",
        "            val_loss_batch.append(loss.item())\n",
        "            val_acc_batch.append(torch.sum(outputs==labels)/len(outputs))\n",
        "    val_loss.append(sum(val_loss_batch)/len(val_loss_batch))\n",
        "    val_acc.append(sum(val_acc_batch)/len(val_acc_batch))\n",
        "\n",
        "    print('Epoch [%d], train_loss: %.3f,train_acc: %.3f,val_loss: %.3f,val_acc: %.3f' % (epoch+1,train_loss[-1],train_acc[-1],val_loss[-1],val_acc[-1]))"
      ],
      "metadata": {
        "id": "jCmX8PqE22XP",
        "colab": {
          "base_uri": "https://localhost:8080/"
        },
        "outputId": "a324edac-2aa3-49c2-f8b9-52bb5d1ed8c7"
      },
      "execution_count": 111,
      "outputs": [
        {
          "output_type": "stream",
          "name": "stdout",
          "text": [
            "Epoch [1], train_loss: 0.360,train_acc: 0.894,val_loss: 0.181,val_acc: 0.944\n",
            "Epoch [2], train_loss: 0.146,train_acc: 0.956,val_loss: 0.122,val_acc: 0.963\n",
            "Epoch [3], train_loss: 0.104,train_acc: 0.968,val_loss: 0.072,val_acc: 0.978\n",
            "Epoch [4], train_loss: 0.083,train_acc: 0.974,val_loss: 0.065,val_acc: 0.979\n",
            "Epoch [5], train_loss: 0.066,train_acc: 0.979,val_loss: 0.049,val_acc: 0.985\n",
            "Epoch [6], train_loss: 0.055,train_acc: 0.982,val_loss: 0.051,val_acc: 0.984\n",
            "Epoch [7], train_loss: 0.047,train_acc: 0.984,val_loss: 0.034,val_acc: 0.989\n",
            "Epoch [8], train_loss: 0.041,train_acc: 0.986,val_loss: 0.037,val_acc: 0.987\n",
            "Epoch [9], train_loss: 0.035,train_acc: 0.989,val_loss: 0.038,val_acc: 0.986\n",
            "Epoch [10], train_loss: 0.030,train_acc: 0.990,val_loss: 0.022,val_acc: 0.992\n"
          ]
        }
      ]
    },
    {
      "cell_type": "code",
      "source": [
        "# Plot Graph of Train & Val Loss vs Epoch (together in same plot) for model B\n",
        "\n",
        "maxb = max(val_acc)\n",
        "\n",
        "\n",
        "# Create a list of epoch numbers\n",
        "epochsi = [1,2,3,4,5,6,7,8,9,10]\n",
        "\n",
        "# Plot Train Loss and Val Loss vs. Epoch\n",
        "plt.plot(epochsi, train_loss, label='Train Loss')\n",
        "plt.plot(epochsi, val_loss, label='Val Loss')\n",
        "plt.xlabel('Epochs')\n",
        "plt.ylabel('Loss')\n",
        "plt.title('Train Loss and Val Loss vs. Epoch')\n",
        "plt.legend()\n",
        "plt.show()"
      ],
      "metadata": {
        "id": "9pfLjJrI22XQ",
        "colab": {
          "base_uri": "https://localhost:8080/",
          "height": 295
        },
        "outputId": "df489dfa-f645-45ea-a026-491916b55eac"
      },
      "execution_count": 112,
      "outputs": [
        {
          "output_type": "display_data",
          "data": {
            "text/plain": [
              "<Figure size 432x288 with 1 Axes>"
            ],
            "image/png": "[encoded data removed]"
          },
          "metadata": {
            "needs_background": "light"
          }
        }
      ]
    },
    {
      "cell_type": "code",
      "source": [
        "# Plot Graph of Train & Val Accuracy vs Epoch (together in same plot) for model B\n",
        "epochsi = [1,2,3,4,5,6,7,8,9,10]\n",
        "\n",
        "# Plot Train Loss and Val Loss vs. Epoch\n",
        "plt.plot(epochsi, train_acc, label='Train Acc')\n",
        "plt.plot(epochsi, val_acc, label='Val Acc')\n",
        "plt.xlabel('Epochs')\n",
        "plt.ylabel('Acc')\n",
        "plt.title('Train Acc and Val Acc vs. Epoch')\n",
        "plt.legend()\n",
        "plt.show()\n",
        "\n",
        "\n"
      ],
      "metadata": {
        "id": "KOy6REpK22XQ",
        "colab": {
          "base_uri": "https://localhost:8080/",
          "height": 295
        },
        "outputId": "e6609890-ee36-47e2-9de7-06368332aa3b"
      },
      "execution_count": 113,
      "outputs": [
        {
          "output_type": "display_data",
          "data": {
            "text/plain": [
              "<Figure size 432x288 with 1 Axes>"
            ],
            "image/png": "[encoded data removed]"
          },
          "metadata": {
            "needs_background": "light"
          }
        }
      ]
    },
    {
      "cell_type": "markdown",
      "source": [
        "### Model C\n"
      ],
      "metadata": {
        "id": "4JslKXgq3AUT"
      }
    },
    {
      "cell_type": "code",
      "source": [
        "# Training Loop for model C\n",
        "# Training Loop for model B\n",
        "train_loss = []\n",
        "train_acc = []\n",
        "\n",
        "val_loss = []\n",
        "val_acc = []\n",
        "\n",
        "for epoch in range(ne):\n",
        "    train_loss_batch = []\n",
        "    train_acc_batch = []\n",
        "    val_loss_batch = []\n",
        "    val_acc_batch = []\n",
        "    for i, data in enumerate(train_loader, 0):\n",
        "        inputs, labels = data\n",
        "        \n",
        "        # zero the parameter gradients\n",
        "        optimizer3.zero_grad()\n",
        "\n",
        "        # forward + backward + optimize\n",
        "        outputs = C(inputs.view(-1,784))\n",
        "        loss = criterion(outputs, labels)\n",
        "        _,outputs = torch.max(outputs,dim = 1)\n",
        "        loss.backward()\n",
        "        optimizer3.step()\n",
        "\n",
        "        # print statistics\n",
        "        train_loss_batch.append(loss.item())\n",
        "        train_acc_batch.append(torch.sum(outputs==labels)/len(outputs))\n",
        "    train_loss.append(sum(train_loss_batch)/len(train_loss_batch))\n",
        "    train_acc.append(sum(train_acc_batch)/len(train_acc_batch))\n",
        "\n",
        "    with torch.no_grad():\n",
        "        for i, data in enumerate(train_loader, 0):\n",
        "            inputs, labels = data\n",
        "            outputs = C(inputs.view(-1,784))\n",
        "            loss = criterion(outputs, labels)\n",
        "            _,outputs = torch.max(outputs, dim = 1)\n",
        "            val_loss_batch.append(loss.item())\n",
        "            val_acc_batch.append(torch.sum(outputs==labels)/len(outputs))\n",
        "    val_loss.append(sum(val_loss_batch)/len(val_loss_batch))\n",
        "    val_acc.append(sum(val_acc_batch)/len(val_acc_batch))\n",
        "\n",
        "    print('Epoch [%d], train_loss: %.3f,train_acc: %.3f,val_loss: %.3f,val_acc: %.3f' % (epoch+1,train_loss[-1],train_acc[-1],val_loss[-1],val_acc[-1]))"
      ],
      "metadata": {
        "id": "2m3w2F5J22mq",
        "colab": {
          "base_uri": "https://localhost:8080/"
        },
        "outputId": "818c37c6-a618-4192-aa0a-714f5083c97e"
      },
      "execution_count": 114,
      "outputs": [
        {
          "output_type": "stream",
          "name": "stdout",
          "text": [
            "Epoch [1], train_loss: 0.349,train_acc: 0.892,val_loss: 0.153,val_acc: 0.954\n",
            "Epoch [2], train_loss: 0.139,train_acc: 0.958,val_loss: 0.095,val_acc: 0.971\n",
            "Epoch [3], train_loss: 0.106,train_acc: 0.967,val_loss: 0.085,val_acc: 0.974\n",
            "Epoch [4], train_loss: 0.082,train_acc: 0.975,val_loss: 0.070,val_acc: 0.980\n",
            "Epoch [5], train_loss: 0.069,train_acc: 0.979,val_loss: 0.050,val_acc: 0.984\n",
            "Epoch [6], train_loss: 0.059,train_acc: 0.982,val_loss: 0.043,val_acc: 0.986\n",
            "Epoch [7], train_loss: 0.051,train_acc: 0.984,val_loss: 0.049,val_acc: 0.984\n",
            "Epoch [8], train_loss: 0.049,train_acc: 0.985,val_loss: 0.030,val_acc: 0.991\n",
            "Epoch [9], train_loss: 0.040,train_acc: 0.987,val_loss: 0.035,val_acc: 0.989\n",
            "Epoch [10], train_loss: 0.038,train_acc: 0.988,val_loss: 0.031,val_acc: 0.990\n"
          ]
        }
      ]
    },
    {
      "cell_type": "code",
      "source": [
        "# Plot Graph of Train & Val Loss vs Epoch (together in same plot) for model C\n",
        "# Create a list of epoch numbers\n",
        "maxc = max(val_acc)\n",
        "epochsi = [1,2,3,4,5,6,7,8,9,10]\n",
        "\n",
        "# Plot Train Loss and Val Loss vs. Epoch\n",
        "plt.plot(epochsi, train_loss, label='Train Loss')\n",
        "plt.plot(epochsi, val_loss, label='Val Loss')\n",
        "plt.xlabel('Epochs')\n",
        "plt.ylabel('Loss')\n",
        "plt.title('Train Loss and Val Loss vs. Epoch')\n",
        "plt.legend()\n",
        "plt.show()"
      ],
      "metadata": {
        "id": "eN5XtgCl22mq",
        "colab": {
          "base_uri": "https://localhost:8080/",
          "height": 295
        },
        "outputId": "b48a2bbf-68b2-4112-9bb0-e9803bccfbff"
      },
      "execution_count": 115,
      "outputs": [
        {
          "output_type": "display_data",
          "data": {
            "text/plain": [
              "<Figure size 432x288 with 1 Axes>"
            ],
            "image/png": "[encoded data removed]"
          },
          "metadata": {
            "needs_background": "light"
          }
        }
      ]
    },
    {
      "cell_type": "code",
      "source": [
        "# Plot Graph of Train & Val Accuracy vs Epoch (together in same plot) for model C\n",
        "epochsi = [1,2,3,4,5,6,7,8,9,10]\n",
        "\n",
        "# Plot Train Loss and Val Loss vs. Epoch\n",
        "plt.plot(epochsi, train_acc, label='Train Acc')\n",
        "plt.plot(epochsi, val_acc, label='Val Acc')\n",
        "plt.xlabel('Epochs')\n",
        "plt.ylabel('Acc')\n",
        "plt.title('Train Acc and Val Acc vs. Epoch')\n",
        "plt.legend()\n",
        "plt.show()\n"
      ],
      "metadata": {
        "id": "xwOen7-V22mr",
        "colab": {
          "base_uri": "https://localhost:8080/",
          "height": 295
        },
        "outputId": "29c3ab9c-6a86-4b07-b3fa-9f8fc0ea5894"
      },
      "execution_count": 116,
      "outputs": [
        {
          "output_type": "display_data",
          "data": {
            "text/plain": [
              "<Figure size 432x288 with 1 Axes>"
            ],
            "image/png": "[encoded data removed]"
          },
          "metadata": {
            "needs_background": "light"
          }
        }
      ]
    },
    {
      "cell_type": "markdown",
      "source": [
        "## Choosing a Activation Function [10 marks]\n",
        "\n",
        "Based on the best performing model you found above, define 2 more models with these 2 activation functions (1 activation function is used throughout the model definiation). Use these Activation funcitons \n",
        "\n",
        "\n",
        "*   Tanh\n",
        "*   LeakyRELU"
      ],
      "metadata": {
        "id": "AZuT5E_r3LbK"
      }
    },
    {
      "cell_type": "code",
      "source": [
        "from re import L\n",
        "# Leaky ReLU model definiton\n",
        "\n",
        "# Leaky ReLU model definiton\n",
        "\n",
        "\n",
        "\n",
        "\n",
        "class Net4(nn.Module):\n",
        "    def __init__(self):\n",
        "        super(Net4, self).__init__()\n",
        "        self.fc1 = nn.Linear(in_features=784, out_features=64)  # input layer to hidden layer 1\n",
        "        self.lrelu1 = nn.LeakyReLU()  # Leaky ReLU activation function\n",
        "        self.fc2 = nn.Linear(in_features=64, out_features=128)  # hidden layer 1 to hidden layer 2\n",
        "        self.lrelu2 = nn.LeakyReLU()  # Leaky ReLU activation function\n",
        "        self.out = nn.Linear(in_features=128, out_features=10)  # hidden layer 2 to output layer\n",
        "    \n",
        "    def forward(self, x):\n",
        "        x = self.fc1(x)\n",
        "        x = self.lrelu1(x)\n",
        "        x = self.fc2(x)\n",
        "        x = self.lrelu2(x)\n",
        "        x = self.out(x)\n",
        "        return x\n",
        "\n",
        "\n",
        "\n",
        "import torch.nn as nn\n",
        "\n",
        "class Net5(nn.Module):\n",
        "    def __init__(self):\n",
        "        super(Net5, self).__init__()\n",
        "        self.fc1 = nn.Linear(in_features=784, out_features=64)  # input layer to hidden layer 1\n",
        "        self.tanh1 = nn.Tanh()  # Tanh activation function\n",
        "        self.fc2 = nn.Linear(in_features=64, out_features=128)  # hidden layer 1 to hidden layer 2\n",
        "        self.tanh2 = nn.Tanh()  # Tanh activation function\n",
        "        self.out = nn.Linear(in_features=128, out_features=10)  # hidden layer 2 to output layer\n",
        "    \n",
        "    def forward(self, x):\n",
        "        x = self.fc1(x)\n",
        "        x = self.tanh1(x)\n",
        "        x = self.fc2(x)\n",
        "        x = self.tanh2(x)\n",
        "        x = self.out(x)\n",
        "        return x\n",
        "\n",
        " \n",
        "\n",
        "L = Net4()\n",
        "\n",
        "T = Net5()\n",
        "\n",
        "optimizer4 = torch.optim.Adam(L.parameters(), lr=0.01)\n",
        "\n",
        "optimizer5 = torch.optim.Adam(T.parameters(), lr=0.01)\n",
        "\n"
      ],
      "metadata": {
        "id": "uhAK1dvg3vkf",
        "colab": {
          "base_uri": "https://localhost:8080/",
          "height": 408
        },
        "outputId": "f12d6bc6-506d-4de1-a9be-52c2c676d248"
      },
      "execution_count": 117,
      "outputs": [
        {
          "output_type": "stream",
          "name": "stdout",
          "text": [
            "tensor(0.9931)\n",
            "tensor(0.9925)\n",
            "tensor(0.9911)\n"
          ]
        },
        {
          "output_type": "error",
          "ename": "AttributeError",
          "evalue": "ignored",
          "traceback": [
            "\u001b[0;31m---------------------------------------------------------------------------\u001b[0m",
            "\u001b[0;31mAttributeError\u001b[0m                            Traceback (most recent call last)",
            "\u001b[0;32m<ipython-input-117-16d8713bfa6b>\u001b[0m in \u001b[0;36m<module>\u001b[0;34m\u001b[0m\n\u001b[1;32m     90\u001b[0m \u001b[0mmodel_lrelu\u001b[0m \u001b[0;34m=\u001b[0m \u001b[0ml\u001b[0m\u001b[0;34m(\u001b[0m\u001b[0;34m)\u001b[0m\u001b[0;34m\u001b[0m\u001b[0;34m\u001b[0m\u001b[0m\n\u001b[1;32m     91\u001b[0m \u001b[0;34m\u001b[0m\u001b[0m\n\u001b[0;32m---> 92\u001b[0;31m \u001b[0mmodel_tanh\u001b[0m \u001b[0;34m=\u001b[0m \u001b[0mt\u001b[0m\u001b[0;34m(\u001b[0m\u001b[0;34m)\u001b[0m\u001b[0;34m\u001b[0m\u001b[0;34m\u001b[0m\u001b[0m\n\u001b[0m\u001b[1;32m     93\u001b[0m \u001b[0;34m\u001b[0m\u001b[0m\n\u001b[1;32m     94\u001b[0m \u001b[0moptimizerD\u001b[0m \u001b[0;34m=\u001b[0m \u001b[0mtorch\u001b[0m\u001b[0;34m.\u001b[0m\u001b[0moptim\u001b[0m\u001b[0;34m.\u001b[0m\u001b[0mAdam\u001b[0m\u001b[0;34m(\u001b[0m\u001b[0mmodel_lrelu\u001b[0m\u001b[0;34m.\u001b[0m\u001b[0mparameters\u001b[0m\u001b[0;34m(\u001b[0m\u001b[0;34m)\u001b[0m\u001b[0;34m,\u001b[0m \u001b[0mlr\u001b[0m\u001b[0;34m=\u001b[0m\u001b[0;36m0.01\u001b[0m\u001b[0;34m)\u001b[0m\u001b[0;34m\u001b[0m\u001b[0;34m\u001b[0m\u001b[0m\n",
            "\u001b[0;32m<ipython-input-117-16d8713bfa6b>\u001b[0m in \u001b[0;36m__init__\u001b[0;34m(self)\u001b[0m\n\u001b[1;32m     61\u001b[0m         \u001b[0mself\u001b[0m\u001b[0;34m.\u001b[0m\u001b[0mfc5\u001b[0m \u001b[0;34m=\u001b[0m \u001b[0mnn\u001b[0m\u001b[0;34m.\u001b[0m\u001b[0mLinear\u001b[0m\u001b[0;34m(\u001b[0m\u001b[0;36m512\u001b[0m\u001b[0;34m,\u001b[0m \u001b[0;36m10\u001b[0m\u001b[0;34m)\u001b[0m\u001b[0;34m\u001b[0m\u001b[0;34m\u001b[0m\u001b[0m\n\u001b[1;32m     62\u001b[0m \u001b[0;34m\u001b[0m\u001b[0m\n\u001b[0;32m---> 63\u001b[0;31m         \u001b[0mself\u001b[0m\u001b[0;34m.\u001b[0m\u001b[0mtanh\u001b[0m \u001b[0;34m=\u001b[0m \u001b[0mnn\u001b[0m\u001b[0;34m.\u001b[0m\u001b[0mt\u001b[0m\u001b[0;34m(\u001b[0m\u001b[0;34m)\u001b[0m\u001b[0;34m\u001b[0m\u001b[0;34m\u001b[0m\u001b[0m\n\u001b[0m\u001b[1;32m     64\u001b[0m \u001b[0;34m\u001b[0m\u001b[0m\n\u001b[1;32m     65\u001b[0m \u001b[0;34m\u001b[0m\u001b[0m\n",
            "\u001b[0;31mAttributeError\u001b[0m: module 'torch.nn' has no attribute 't'"
          ]
        }
      ]
    },
    {
      "cell_type": "markdown",
      "source": [
        "### Training \n",
        "\n",
        "Train these two models with the same hyperparameters. Train in separate cells given below, and report the same metrics descrived previously (train_loss, val_loss, train_acc, val_acc)"
      ],
      "metadata": {
        "id": "3P1fzs0P4Anx"
      }
    },
    {
      "cell_type": "code",
      "source": [
        "# Training Loop for LRELU\n",
        "print(\"A is Best\")\n",
        "train_loss = []\n",
        "train_acc = []\n",
        "\n",
        "val_loss = []\n",
        "val_acc = []\n",
        "\n",
        "for epoch in range(ne):\n",
        "    train_loss_batch = []\n",
        "    train_acc_batch = []\n",
        "    val_loss_batch = []\n",
        "    val_acc_batch = []\n",
        "    for i, data in enumerate(train_loader, 0):\n",
        "        inputs, labels = data\n",
        "        \n",
        "        # zero the parameter gradients\n",
        "        optimizer4.zero_grad()\n",
        "\n",
        "        # forward + backward + optimize\n",
        "        outputs = L(inputs.view(-1,784))\n",
        "        loss = criterion(outputs, labels)\n",
        "        _,outputs = torch.max(outputs,dim = 1)\n",
        "        loss.backward()\n",
        "        optimizer4.step()\n",
        "\n",
        "        # print statistics\n",
        "        train_loss_batch.append(loss.item())\n",
        "        train_acc_batch.append(torch.sum(outputs==labels)/len(outputs))\n",
        "    train_loss.append(sum(train_loss_batch)/len(train_loss_batch))\n",
        "    train_acc.append(sum(train_acc_batch)/len(train_acc_batch))\n",
        "\n",
        "    with torch.no_grad():\n",
        "        for i, data in enumerate(train_loader, 0):\n",
        "            inputs, labels = data\n",
        "            outputs = L(inputs.view(-1,784))\n",
        "            loss = criterion(outputs, labels)\n",
        "            _,outputs = torch.max(outputs, dim = 1)\n",
        "            val_loss_batch.append(loss.item())\n",
        "            val_acc_batch.append(torch.sum(outputs==labels)/len(outputs))\n",
        "    val_loss.append(sum(val_loss_batch)/len(val_loss_batch))\n",
        "    val_acc.append(sum(val_acc_batch)/len(val_acc_batch))\n",
        "\n",
        "    print('Epoch [%d], train_loss: %.3f,train_acc: %.3f,val_loss: %.3f,val_acc: %.3f' % (epoch+1,train_loss[-1],train_acc[-1],val_loss[-1],val_acc[-1]))\n",
        "train_loss = []\n",
        "train_acc = []\n",
        "\n",
        "val_loss = []\n",
        "val_acc = []\n",
        "\n",
        "for epoch in range(ne):\n",
        "    train_loss_batch = []\n",
        "    train_acc_batch = []\n",
        "    val_loss_batch = []\n",
        "    val_acc_batch = []\n",
        "    for i, data in enumerate(train_loader, 0):\n",
        "        inputs, labels = data\n",
        "        \n",
        "        # zero the parameter gradients\n",
        "        optimizer5.zero_grad()\n",
        "\n",
        "        # forward + backward + optimize\n",
        "        outputs = T(inputs.view(-1,784))\n",
        "        loss = criterion(outputs, labels)\n",
        "        _,outputs = torch.max(outputs,dim = 1)\n",
        "        loss.backward()\n",
        "        optimizer5.step()\n",
        "\n",
        "        # print statistics\n",
        "        train_loss_batch.append(loss.item())\n",
        "        train_acc_batch.append(torch.sum(outputs==labels)/len(outputs))\n",
        "    train_loss.append(sum(train_loss_batch)/len(train_loss_batch))\n",
        "    train_acc.append(sum(train_acc_batch)/len(train_acc_batch))\n",
        "\n",
        "    with torch.no_grad():\n",
        "        for i, data in enumerate(train_loader, 0):\n",
        "            inputs, labels = data\n",
        "            outputs = T(inputs.view(-1,784))\n",
        "            loss = criterion(outputs, labels)\n",
        "            _,outputs = torch.max(outputs, dim = 1)\n",
        "            val_loss_batch.append(loss.item())\n",
        "            val_acc_batch.append(torch.sum(outputs==labels)/len(outputs))\n",
        "    val_loss.append(sum(val_loss_batch)/len(val_loss_batch))\n",
        "    val_acc.append(sum(val_acc_batch)/len(val_acc_batch))\n",
        "\n",
        "    print('Epoch [%d], train_loss: %.3f,train_acc: %.3f,val_loss: %.3f,val_acc: %.3f' % (epoch+1,train_loss[-1],train_acc[-1],val_loss[-1],val_acc[-1]))"
      ],
      "metadata": {
        "id": "-OAT_Rx64T0a"
      },
      "execution_count": null,
      "outputs": []
    },
    {
      "cell_type": "code",
      "source": [
        "# Training Loop for TanH"
      ],
      "metadata": {
        "id": "QuobAEP44Wrz"
      },
      "execution_count": null,
      "outputs": []
    },
    {
      "cell_type": "markdown",
      "source": [
        "### Results on Test Set\n",
        "\n",
        "Report the Test Set classfication accuracy for the three activation functions (ReLU, LeakyReLU & TanH) and state which activation function gave the best performance on test set"
      ],
      "metadata": {
        "id": "WjH0LdKA4tYW"
      }
    },
    {
      "cell_type": "code",
      "source": [
        "# Define how to calculate Accuracy on Test Set"
      ],
      "metadata": {
        "id": "gFeLvSrN4vT_"
      },
      "execution_count": null,
      "outputs": []
    },
    {
      "cell_type": "code",
      "source": [
        "# Accuracy of RELU model"
      ],
      "metadata": {
        "id": "q8dhJf4W7cKu"
      },
      "execution_count": null,
      "outputs": []
    },
    {
      "cell_type": "code",
      "source": [
        "# Accuracy of TanH model"
      ],
      "metadata": {
        "id": "Uouc_R9t7cV3"
      },
      "execution_count": null,
      "outputs": []
    },
    {
      "cell_type": "code",
      "source": [
        "# Accuracy of LeakyReLU model"
      ],
      "metadata": {
        "id": "tjLBwh577chM"
      },
      "execution_count": null,
      "outputs": []
    },
    {
      "cell_type": "markdown",
      "source": [
        "Fill in these with the values you obtained from training.\n",
        "\n",
        "* ReLU model Test Set Accuracy: `....` %\n",
        "* TanH model Test Set Accuracy: `....` %\n",
        "* LeakReLU model Test Set Accuracy: `....` %"
      ],
      "metadata": {
        "id": "5xelRHJV7Lmj"
      }
    }
  ]
}